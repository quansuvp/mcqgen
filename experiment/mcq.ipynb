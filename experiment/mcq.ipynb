{
 "cells": [
  {
   "cell_type": "code",
   "execution_count": 4,
   "id": "7a918220",
   "metadata": {},
   "outputs": [],
   "source": [
    "import os \n",
    "import json\n",
    "import pandas as pd\n",
    "import getpass\n",
    "import traceback"
   ]
  },
  {
   "cell_type": "code",
   "execution_count": 5,
   "id": "a84f5de6",
   "metadata": {},
   "outputs": [],
   "source": [
    "os.environ[\"OPENAI_API_KEY\"] = getpass.getpass(\"Enter your OpenAI API key: \")"
   ]
  },
  {
   "cell_type": "code",
   "execution_count": 6,
   "id": "4c65bdae",
   "metadata": {},
   "outputs": [],
   "source": [
    "from langchain_openai import ChatOpenAI\n",
    "from langchain_core.prompts import ChatPromptTemplate\n",
    "from langchain_core.output_parsers import JsonOutputParser\n",
    "from langchain_core.runnables import RunnablePassthrough, RunnableLambda\n",
    "from langchain.chains import LLMChain, SequentialChain\n",
    "from langchain.callbacks import get_openai_callback\n",
    "\n",
    "import PyPDF2"
   ]
  },
  {
   "cell_type": "code",
   "execution_count": 7,
   "id": "e8093186",
   "metadata": {},
   "outputs": [],
   "source": [
    "llm = ChatOpenAI(\n",
    "    model=\"gpt-3.5-turbo\",\n",
    "    temperature=0.5,\n",
    "    max_tokens=256,\n",
    "    timeout=None,\n",
    "    max_retries=1,\n",
    "    api_key=os.environ[\"OPENAI_API_KEY\"],\n",
    "    # organization=\"...\",\n",
    "    # other params...\n",
    ")"
   ]
  },
  {
   "cell_type": "markdown",
   "id": "7955d7a8",
   "metadata": {},
   "source": [
    "## Note for new chain usage"
   ]
  },
  {
   "cell_type": "code",
   "execution_count": 8,
   "id": "c49ee592",
   "metadata": {},
   "outputs": [],
   "source": [
    "RESPONSE_JSON = {\n",
    "    \"subject\":\"A\",\n",
    "    \"quiz\":{\n",
    "        \"1\": {\n",
    "            \"mcq\": \"multiple choice question\",\n",
    "            \"options\": {\n",
    "                \"A\": \"option A\",\n",
    "                \"B\": \"option B\",\n",
    "                \"C\": \"option C\",\n",
    "                \"D\": \"option D\"\n",
    "            },\n",
    "            \"answer\": \"correct option\"\n",
    "        },\n",
    "        \"2\": {\n",
    "            \"mcq\": \"multiple choice question\",\n",
    "            \"options\": {\n",
    "                \"A\": \"option A\",\n",
    "                \"B\": \"option B\",\n",
    "                \"C\": \"option C\",\n",
    "                \"D\": \"option D\"\n",
    "            },\n",
    "            \"answer\": \"correct option\"\n",
    "        }\n",
    "    }\n",
    "}"
   ]
  },
  {
   "cell_type": "code",
   "execution_count": 9,
   "id": "eaf20e35",
   "metadata": {},
   "outputs": [],
   "source": [
    "TEMPLATE = \"\"\"\n",
    "Text:{text}\n",
    "You are a quiz generation AI. Your task is to generate a quiz of {number} choice questions for {subject} students in {tone} tone\\\n",
    "based on the provided text. \\\n",
    "Make sure the questions are not repeated and check all the questions to be conforming the text as well. \\\n",
    "Make sure to format your response like RESPONSE_JSON below and use it as a guide. \\\n",
    "Ensure to make {number} MCQs\\\n",
    "You must always return valid JSON, with double quotes fenced by a markdown code block. Do not return any additional text.\n",
    "### RESPONSE_JSON\n",
    "{response_json}\n",
    "\"\"\""
   ]
  },
  {
   "cell_type": "code",
   "execution_count": 10,
   "id": "58273ea8",
   "metadata": {},
   "outputs": [],
   "source": [
    "quiz_generation_prompt = ChatPromptTemplate.from_template(TEMPLATE)"
   ]
  },
  {
   "cell_type": "code",
   "execution_count": 11,
   "id": "b5f5f4b8",
   "metadata": {},
   "outputs": [],
   "source": [
    "TEMPLATE2 = \"\"\"\n",
    "You are an expert english grammarian and writer. Given a multiple choice quiz for {subject} students.\\\n",
    "Your task is to analyze the quiz and provide feedback on its grammatical correctness, clarity, and overall complexity.Only use at max 50 words for complexity.\\\n",
    "Please ensure that your feedback is constructive and aimed at helping the quiz creator improve their work.\\\n",
    "Update the quiz questions which needs to be changed and change the tone such that it perfectly fits the student abilities.\\\n",
    "Quiz_MCQs:\n",
    "{quiz}\n",
    "\"\"\""
   ]
  },
  {
   "cell_type": "code",
   "execution_count": 12,
   "id": "f880ebea",
   "metadata": {},
   "outputs": [],
   "source": [
    "quiz_review_prompt= ChatPromptTemplate.from_template(TEMPLATE2)"
   ]
  },
  {
   "cell_type": "markdown",
   "id": "b999eda3",
   "metadata": {},
   "source": [
    "### Case 1: Leverage RunnablePassthrough\n",
    "\n",
    "- Sequential Chain is similar to Sequential Model in Keras that it will take the output of previous chain as input of the next chain\n",
    "\n",
    "- Input of Chain is in form of dictionary ex:\n",
    "    ```\n",
    "        input_params = {\n",
    "            \"text\": \"What is the capital of France\",\n",
    "            \"subject\": \"Geography\", \n",
    "            \"tone\": \"Formal\",\n",
    "            \"number\": 1,\n",
    "            \"response_json\": RESPONSE_JSON\n",
    "        }\n",
    "    ```\n",
    "\n",
    "- ```JsonOutputParser``` will cast a JSON object to dictionary in Python so it is a need between 2 chains if the previous chain output JSON object. I consider it as a bonding\n",
    "\n",
    "- ```RunnablePassthrough``` is used to customize the input to the chain like adding key ```quiz_result``` and ```original_input``` to the output of first chain and then use ```RunnableLambda``` and function ```add_quiz_to_params``` to create a suittable input that required by the next chain.\n",
    "\n",
    "- ```json.dumps()``` to serialize python dictionary to JSON-formatted string"
   ]
  },
  {
   "cell_type": "code",
   "execution_count": 10,
   "id": "5bbc0350",
   "metadata": {},
   "outputs": [],
   "source": [
    "def add_quiz_to_params(result):\n",
    "    # This function adds the quiz result back to the original parameters\n",
    "    original_input = result[\"original_input\"]\n",
    "    quiz_data = result[\"quiz_result\"]\n",
    "    print(quiz_data)\n",
    "    return {\n",
    "        \"quiz\": json.dumps(quiz_data, indent=2),\n",
    "        \"subject\": original_input[\"subject\"]\n",
    "        }"
   ]
  },
  {
   "cell_type": "code",
   "execution_count": 11,
   "id": "089371ad",
   "metadata": {},
   "outputs": [],
   "source": [
    "parser = JsonOutputParser()\n",
    "generate_review_chain = (\n",
    "        RunnablePassthrough.assign(\n",
    "            quiz_result=(\n",
    "                quiz_generation_prompt \n",
    "                | llm \n",
    "                | parser\n",
    "            )\n",
    "        ).assign(\n",
    "            original_input=lambda x: x\n",
    "        )\n",
    "        | RunnableLambda(add_quiz_to_params)\n",
    "        | quiz_review_prompt\n",
    "        | llm\n",
    ")\n",
    "    "
   ]
  },
  {
   "cell_type": "markdown",
   "id": "6728a7de",
   "metadata": {},
   "source": [
    "### Case 2: Raw usage"
   ]
  },
  {
   "cell_type": "markdown",
   "id": "3827524c",
   "metadata": {},
   "source": [
    "- If we already required the LLMs to format the output of the first chain following the requirements of the input of the second chain we can use it directly\n",
    "\n",
    "- However ```Case 1 ``` offer us more flexible implementation as this case do not allow us to view the output of intermediate chain but last chain. While ```Case 1 ``` with the RunnableLambda we can do that by simply adding ```print``` to the custom function."
   ]
  },
  {
   "cell_type": "code",
   "execution_count": 13,
   "id": "20bd9925",
   "metadata": {},
   "outputs": [],
   "source": [
    "parser = JsonOutputParser()\n",
    "generate_review_chain = (\n",
    "    quiz_generation_prompt \n",
    "    | llm \n",
    "    | parser  # Parse JSON string to dictionary\n",
    "    | RunnablePassthrough.assign(\n",
    "            quiz_result=(\n",
    "                quiz_review_prompt\n",
    "                | llm\n",
    "        )\n",
    "    )\n",
    ")"
   ]
  },
  {
   "cell_type": "markdown",
   "id": "6f65d462",
   "metadata": {},
   "source": [
    "### Invoke"
   ]
  },
  {
   "cell_type": "code",
   "execution_count": 14,
   "id": "400db1e3",
   "metadata": {},
   "outputs": [],
   "source": [
    "input_params = {\n",
    "    \"text\": \"What is the capital of France\",\n",
    "    \"subject\": \"Geography\", \n",
    "    \"tone\": \"Formal\",\n",
    "    \"number\": -1,\n",
    "    \"response_json\": RESPONSE_JSON\n",
    "}"
   ]
  },
  {
   "cell_type": "code",
   "execution_count": 15,
   "id": "ee035804",
   "metadata": {},
   "outputs": [],
   "source": [
    "result = generate_review_chain.invoke(input_params)"
   ]
  },
  {
   "cell_type": "code",
   "execution_count": 18,
   "id": "4f7dec37",
   "metadata": {},
   "outputs": [
    {
     "name": "stdout",
     "output_type": "stream",
     "text": [
      "dict_keys(['subject', 'quiz', 'quiz_result'])\n",
      "{'1': {'mcq': 'What is the capital of France?', 'options': {'A': 'Paris', 'B': 'Berlin', 'C': 'London', 'D': 'Madrid'}, 'answer': 'A'}}\n",
      "The quiz question is clear and appropriate for Geography students. The answer choices are relevant, but the options could be more challenging. Consider adding more difficult choices to test students' knowledge further. Great job on using proper grammar and clarity in the question.\n"
     ]
    }
   ],
   "source": [
    "print(result.keys())\n",
    "print(result['quiz'])\n",
    "print(result['quiz_result'].content)"
   ]
  },
  {
   "cell_type": "code",
   "execution_count": 23,
   "id": "a4cd16d0",
   "metadata": {},
   "outputs": [],
   "source": [
    "def get_table_data(quiz_str):\n",
    "    try:\n",
    "        quiz_dict=quiz_str\n",
    "        quiz_table_data = []\n",
    "\n",
    "        for key, value in quiz_dict.items():\n",
    "            mcq = value[\"mcq\"]\n",
    "            options = \" | \".join(\n",
    "                [\n",
    "                    f\"{option} -> {option_value}\" for option,option_value in value[\"options\"].items()\n",
    "                ]\n",
    "            )\n",
    "            answer = value[\"answer\"]\n",
    "            quiz_table_data.append({\"MCQ\": mcq, \"Options\": options, \"Answer\": answer})\n",
    "        return quiz_table_data\n",
    "    except Exception as e:\n",
    "        traceback.print_exception(type(e), value=e, tb=e.__traceback__)\n",
    "        return False"
   ]
  },
  {
   "cell_type": "code",
   "execution_count": 24,
   "id": "f561a70c",
   "metadata": {},
   "outputs": [
    {
     "data": {
      "text/plain": [
       "[{'MCQ': 'What is the capital of France?',\n",
       "  'Options': 'A -> Paris | B -> Berlin | C -> London | D -> Madrid',\n",
       "  'Answer': 'A'}]"
      ]
     },
     "execution_count": 24,
     "metadata": {},
     "output_type": "execute_result"
    }
   ],
   "source": [
    "get_table_data(result['quiz'])"
   ]
  },
  {
   "cell_type": "markdown",
   "id": "b24f811a",
   "metadata": {},
   "source": [
    "## Callbacks to track TOKEN usage"
   ]
  },
  {
   "cell_type": "code",
   "execution_count": 14,
   "id": "d0227d8a",
   "metadata": {},
   "outputs": [],
   "source": [
    "file_path = \"C:/Users/Admin/mcqgen/experiment/data.txt\""
   ]
  },
  {
   "cell_type": "code",
   "execution_count": 15,
   "id": "0d7b753a",
   "metadata": {},
   "outputs": [
    {
     "name": "stdout",
     "output_type": "stream",
     "text": [
      "Machine learning (ML) is a field of study in artificial intelligence concerned with the development and study of statistical algorithms that can learn from data and generalise to unseen data, and thus perform tasks without explicit instructions.[1] Within a subdiscipline in machine learning, advances in the field of deep learning have allowed neural networks, a class of statistical algorithms, to surpass many previous machine learning approaches in performance.[2]\n",
      "\n",
      "ML finds application in many fields, including natural language processing, computer vision, speech recognition, email filtering, agriculture, and medicine. The application of ML to business problems is known as predictive analytics.\n",
      "\n",
      "Statistics and mathematical optimisation (mathematical programming) methods comprise the foundations of machine learning. Data mining is a related field of study, focusing on exploratory data analysis (EDA) via unsupervised learning.[4][5]\n",
      "\n",
      "From a theoretical viewpoint, probably approximately correct learning provides a framework for describing machine learning.\n"
     ]
    }
   ],
   "source": [
    "with open(file_path, \"r\") as file:\n",
    "    TEXT = file.read()\n",
    "print(TEXT)"
   ]
  },
  {
   "cell_type": "code",
   "execution_count": 24,
   "id": "59ca7d96",
   "metadata": {},
   "outputs": [
    {
     "data": {
      "text/plain": [
       "'Machine learning (ML) is a field of study in artificial intelligence concerned with the development and study of statistical algorithms that can learn from data and generalise to unseen data, and thus perform tasks without explicit instructions.[1] Within a subdiscipline in machine learning, advances in the field of deep learning have allowed neural networks, a class of statistical algorithms, to surpass many previous machine learning approaches in performance.[2]\\n\\nML finds application in many fields, including natural language processing, computer vision, speech recognition, email filtering, agriculture, and medicine. The application of ML to business problems is known as predictive analytics.\\n\\nStatistics and mathematical optimisation (mathematical programming) methods comprise the foundations of machine learning. Data mining is a related field of study, focusing on exploratory data analysis (EDA) via unsupervised learning.[4][5]\\n\\nFrom a theoretical viewpoint, probably approximately correct learning provides a framework for describing machine learning.'"
      ]
     },
     "execution_count": 24,
     "metadata": {},
     "output_type": "execute_result"
    }
   ],
   "source": [
    "TEXT"
   ]
  },
  {
   "cell_type": "code",
   "execution_count": 25,
   "id": "16548d8a",
   "metadata": {},
   "outputs": [
    {
     "name": "stdout",
     "output_type": "stream",
     "text": [
      "Tokens Used: 733\n",
      "\tPrompt Tokens: 575\n",
      "\t\tPrompt Tokens Cached: 0\n",
      "\tCompletion Tokens: 158\n",
      "\t\tReasoning Tokens: 0\n",
      "Successful Requests: 2\n",
      "Total Cost (USD): $0.0001207\n"
     ]
    }
   ],
   "source": [
    "SUBJECT = 'machine learning'\n",
    "TONE = 'Formal'\n",
    "NUMBER = 1\n",
    "\n",
    "input_params = {\n",
    "    \"text\": TEXT,\n",
    "    \"subject\": SUBJECT, \n",
    "    \"tone\": TONE,\n",
    "    \"number\": NUMBER,\n",
    "    \"response_json\": RESPONSE_JSON\n",
    "}\n",
    "# print(json.dumps(input_params,indent=2))\n",
    "with get_openai_callback() as cb:\n",
    "    result = generate_review_chain.invoke(input_params)\n",
    "    print(cb)"
   ]
  },
  {
   "cell_type": "code",
   "execution_count": 35,
   "id": "683d0cbf",
   "metadata": {},
   "outputs": [
    {
     "name": "stdout",
     "output_type": "stream",
     "text": [
      "<class 'dict'>\n",
      "dict_keys(['subject', 'quiz', 'quiz_result'])\n",
      "The question is clear and grammatically correct. To enhance clarity for high-achieving students, consider simplifying the phrasing: \"Which area within machine learning has led to neural networks outperforming earlier methods?\" The options are appropriate; no changes needed. Overall, well-constructed for advanced learners.\n"
     ]
    }
   ],
   "source": [
    "print(type(result))\n",
    "print(result.keys())\n",
    "print(result['quiz_result'].content)"
   ]
  },
  {
   "cell_type": "code",
   "execution_count": 88,
   "id": "f61abf77",
   "metadata": {},
   "outputs": [
    {
     "data": {
      "text/plain": [
       "{'1': {'mcq': 'What is the main focus of machine learning?',\n",
       "  'options': {'A': 'Development of statistical algorithms',\n",
       "   'B': 'Study of natural language processing',\n",
       "   'C': 'Exploratory data analysis',\n",
       "   'D': 'Email filtering'},\n",
       "  'answer': 'A'}}"
      ]
     },
     "execution_count": 88,
     "metadata": {},
     "output_type": "execute_result"
    }
   ],
   "source": [
    "result['quiz']"
   ]
  },
  {
   "cell_type": "code",
   "execution_count": 86,
   "id": "6fecd97c",
   "metadata": {},
   "outputs": [
    {
     "ename": "TypeError",
     "evalue": "'AIMessage' object is not subscriptable",
     "output_type": "error",
     "traceback": [
      "\u001b[31m---------------------------------------------------------------------------\u001b[39m",
      "\u001b[31mTypeError\u001b[39m                                 Traceback (most recent call last)",
      "\u001b[36mCell\u001b[39m\u001b[36m \u001b[39m\u001b[32mIn[86]\u001b[39m\u001b[32m, line 1\u001b[39m\n\u001b[32m----> \u001b[39m\u001b[32m1\u001b[39m \u001b[38;5;28mprint\u001b[39m(json.dumps(\u001b[43mresult\u001b[49m\u001b[43m[\u001b[49m\u001b[33;43m'\u001b[39;49m\u001b[33;43mquiz\u001b[39;49m\u001b[33;43m'\u001b[39;49m\u001b[43m]\u001b[49m, indent=\u001b[32m4\u001b[39m))\n\u001b[32m      2\u001b[39m \u001b[38;5;28mprint\u001b[39m(result[\u001b[33m'\u001b[39m\u001b[33mquiz_result\u001b[39m\u001b[33m'\u001b[39m].content)\n",
      "\u001b[31mTypeError\u001b[39m: 'AIMessage' object is not subscriptable"
     ]
    }
   ],
   "source": [
    "print(json.dumps(result['quiz'], indent=4))\n",
    "print(result['quiz_result'].content)"
   ]
  },
  {
   "cell_type": "code",
   "execution_count": 1,
   "id": "2c8a7ce4",
   "metadata": {},
   "outputs": [],
   "source": [
    "import logging\n",
    "import os\n",
    "from datetime import datetime\n",
    "\n",
    "LOG_FILE = f\"{datetime.now().strftime('%Y-%m-%d_%H-%M-%S')}.log\"\n"
   ]
  },
  {
   "cell_type": "code",
   "execution_count": 2,
   "id": "3aab7310",
   "metadata": {},
   "outputs": [
    {
     "data": {
      "text/plain": [
       "'2025-08-24_15-00-53.log'"
      ]
     },
     "execution_count": 2,
     "metadata": {},
     "output_type": "execute_result"
    }
   ],
   "source": [
    "LOG_FILE"
   ]
  }
 ],
 "metadata": {
  "kernelspec": {
   "display_name": "env",
   "language": "python",
   "name": "python3"
  },
  "language_info": {
   "codemirror_mode": {
    "name": "ipython",
    "version": 3
   },
   "file_extension": ".py",
   "mimetype": "text/x-python",
   "name": "python",
   "nbconvert_exporter": "python",
   "pygments_lexer": "ipython3",
   "version": "3.13.5"
  }
 },
 "nbformat": 4,
 "nbformat_minor": 5
}
